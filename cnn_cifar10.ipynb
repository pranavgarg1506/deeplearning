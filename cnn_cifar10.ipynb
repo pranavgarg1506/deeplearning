{
  "nbformat": 4,
  "nbformat_minor": 0,
  "metadata": {
    "colab": {
      "name": "cnn_cifar10.ipynb",
      "provenance": [],
      "authorship_tag": "ABX9TyPD0M9rk6Brvg1LBv+6uPxd",
      "include_colab_link": true
    },
    "kernelspec": {
      "name": "python3",
      "display_name": "Python 3"
    },
    "accelerator": "GPU"
  },
  "cells": [
    {
      "cell_type": "markdown",
      "metadata": {
        "id": "view-in-github",
        "colab_type": "text"
      },
      "source": [
        "<a href=\"https://colab.research.google.com/github/pranavgarg1506/deeplearning/blob/main/cnn_cifar10.ipynb\" target=\"_parent\"><img src=\"https://colab.research.google.com/assets/colab-badge.svg\" alt=\"Open In Colab\"/></a>"
      ]
    },
    {
      "cell_type": "code",
      "metadata": {
        "id": "Relwp-dgmV9g"
      },
      "source": [
        "import numpy as np\n",
        "import pandas as pd\n",
        "import tensorflow as tf\n",
        "\n",
        "import matplotlib.pyplot as plt"
      ],
      "execution_count": 1,
      "outputs": []
    },
    {
      "cell_type": "code",
      "metadata": {
        "colab": {
          "base_uri": "https://localhost:8080/"
        },
        "id": "0PZpJQNxmqZt",
        "outputId": "14f6484a-350b-4d2c-c281-e95644b81d68"
      },
      "source": [
        "print(\"version of numpy is \",np.__version__)\n",
        "print(\"version of pandas is \",pd.__version__)\n",
        "print(\"version of tensorflow is \",tf.__version__)"
      ],
      "execution_count": 2,
      "outputs": [
        {
          "output_type": "stream",
          "text": [
            "version of numpy is  1.19.5\n",
            "version of pandas is  1.1.5\n",
            "version of tensorflow is  2.4.1\n"
          ],
          "name": "stdout"
        }
      ]
    },
    {
      "cell_type": "code",
      "metadata": {
        "colab": {
          "base_uri": "https://localhost:8080/"
        },
        "id": "TZPIs6QWnAYy",
        "outputId": "f14e119a-9007-40a2-c44c-52db921e8273"
      },
      "source": [
        "(x_train, y_train), (x_test, y_test) = tf.keras.datasets.cifar10.load_data()\n",
        "\n",
        "print(x_train.shape)\n",
        "print(y_train.shape)\n",
        "\n",
        "print(x_test.shape)\n",
        "print(y_test.shape)"
      ],
      "execution_count": 3,
      "outputs": [
        {
          "output_type": "stream",
          "text": [
            "(50000, 32, 32, 3)\n",
            "(50000, 1)\n",
            "(10000, 32, 32, 3)\n",
            "(10000, 1)\n"
          ],
          "name": "stdout"
        }
      ]
    },
    {
      "cell_type": "code",
      "metadata": {
        "colab": {
          "base_uri": "https://localhost:8080/"
        },
        "id": "uhjbnUi-nUOx",
        "outputId": "dd44b425-e998-49d6-8e94-a096ca0159ff"
      },
      "source": [
        "x_train.max(), x_train.min()"
      ],
      "execution_count": 4,
      "outputs": [
        {
          "output_type": "execute_result",
          "data": {
            "text/plain": [
              "(255, 0)"
            ]
          },
          "metadata": {
            "tags": []
          },
          "execution_count": 4
        }
      ]
    },
    {
      "cell_type": "code",
      "metadata": {
        "id": "wlvQjZRIniL5"
      },
      "source": [
        "## standardinzing the data\n",
        "x_train = x_train / 255\n",
        "x_test = x_test / 255\n",
        "\n",
        "\n",
        "\n",
        "## categorizing the dependent variable\n",
        "y_cat_train = tf.keras.utils.to_categorical(y_train)\n",
        "y_cat_test = tf.keras.utils.to_categorical(y_test)"
      ],
      "execution_count": 5,
      "outputs": []
    },
    {
      "cell_type": "code",
      "metadata": {
        "colab": {
          "base_uri": "https://localhost:8080/"
        },
        "id": "nCEpIt-cDlPv",
        "outputId": "33fcb2e6-1cc6-46f4-d40c-d28295611ed6"
      },
      "source": [
        "## training and test data should be in shape\n",
        "## no_of_images, height, width, channel_numbers\n",
        "\n",
        "print(x_train.shape)\n",
        "print(x_test.shape)"
      ],
      "execution_count": 6,
      "outputs": [
        {
          "output_type": "stream",
          "text": [
            "(50000, 32, 32, 3)\n",
            "(10000, 32, 32, 3)\n"
          ],
          "name": "stdout"
        }
      ]
    },
    {
      "cell_type": "code",
      "metadata": {
        "id": "LUzJcPa9DdBe"
      },
      "source": [
        "## making the model\n",
        "\n",
        "model = tf.keras.models.Sequential()\n",
        "\n",
        "## adding first layer\n",
        "model.add(tf.keras.layers.Conv2D(64, (5,5), strides=(1,1), padding='valid', input_shape=(32,32,3), activation='relu')  )\n",
        "## o/p shape --> 28,28,64\n",
        "model.add(tf.keras.layers.MaxPool2D(pool_size= (2,2)) )\n",
        "## o/p shape --> 14,14,64\n",
        "\n",
        "## adding second layer\n",
        "model.add(tf.keras.layers.Conv2D(128, (5,5), strides=(1,1), padding='valid', activation='relu')  )\n",
        "## o/p shape  --> 10,10,128\n",
        "model.add(tf.keras.layers.MaxPool2D(pool_size=(2,2)) )\n",
        "## o/p shape  --> 5,5,128\n",
        "\n",
        "## adding third layer\n",
        "model.add(tf.keras.layers.Flatten() )\n",
        "## o/p shape  --> 1,3200\n",
        "\n",
        "model.add( tf.keras.layers.Dense(256, activation='relu')  )\n",
        "model.add(tf.keras.layers.Dense(10, activation='softmax'))\n",
        "\n",
        "model.compile(loss = 'categorical_crossentropy', optimizer = 'adam', metrics = ['accuracy'])"
      ],
      "execution_count": 7,
      "outputs": []
    },
    {
      "cell_type": "code",
      "metadata": {
        "colab": {
          "base_uri": "https://localhost:8080/"
        },
        "id": "RyBQn2A-F4mh",
        "outputId": "1f0efab1-fe7f-45e1-c47a-5ba10cc542fb"
      },
      "source": [
        "model.summary()"
      ],
      "execution_count": 8,
      "outputs": [
        {
          "output_type": "stream",
          "text": [
            "Model: \"sequential\"\n",
            "_________________________________________________________________\n",
            "Layer (type)                 Output Shape              Param #   \n",
            "=================================================================\n",
            "conv2d (Conv2D)              (None, 28, 28, 64)        4864      \n",
            "_________________________________________________________________\n",
            "max_pooling2d (MaxPooling2D) (None, 14, 14, 64)        0         \n",
            "_________________________________________________________________\n",
            "conv2d_1 (Conv2D)            (None, 10, 10, 128)       204928    \n",
            "_________________________________________________________________\n",
            "max_pooling2d_1 (MaxPooling2 (None, 5, 5, 128)         0         \n",
            "_________________________________________________________________\n",
            "flatten (Flatten)            (None, 3200)              0         \n",
            "_________________________________________________________________\n",
            "dense (Dense)                (None, 256)               819456    \n",
            "_________________________________________________________________\n",
            "dense_1 (Dense)              (None, 10)                2570      \n",
            "=================================================================\n",
            "Total params: 1,031,818\n",
            "Trainable params: 1,031,818\n",
            "Non-trainable params: 0\n",
            "_________________________________________________________________\n"
          ],
          "name": "stdout"
        }
      ]
    },
    {
      "cell_type": "code",
      "metadata": {
        "colab": {
          "base_uri": "https://localhost:8080/"
        },
        "id": "gnZMbEYnF6Df",
        "outputId": "a091e0de-4e56-457e-bdab-5c83a94db6ca"
      },
      "source": [
        "model.fit(x_train,y_cat_train,epochs=15,verbose=1,validation_data=(x_test, y_cat_test),batch_size=200)"
      ],
      "execution_count": 9,
      "outputs": [
        {
          "output_type": "stream",
          "text": [
            "Epoch 1/15\n",
            "250/250 [==============================] - 5s 11ms/step - loss: 1.7965 - accuracy: 0.3368 - val_loss: 1.3077 - val_accuracy: 0.5337\n",
            "Epoch 2/15\n",
            "250/250 [==============================] - 2s 9ms/step - loss: 1.2458 - accuracy: 0.5551 - val_loss: 1.0890 - val_accuracy: 0.6148\n",
            "Epoch 3/15\n",
            "250/250 [==============================] - 2s 9ms/step - loss: 1.0468 - accuracy: 0.6355 - val_loss: 1.0294 - val_accuracy: 0.6401\n",
            "Epoch 4/15\n",
            "250/250 [==============================] - 2s 9ms/step - loss: 0.9143 - accuracy: 0.6807 - val_loss: 0.9888 - val_accuracy: 0.6530\n",
            "Epoch 5/15\n",
            "250/250 [==============================] - 2s 9ms/step - loss: 0.8158 - accuracy: 0.7180 - val_loss: 0.9016 - val_accuracy: 0.6889\n",
            "Epoch 6/15\n",
            "250/250 [==============================] - 2s 9ms/step - loss: 0.7363 - accuracy: 0.7465 - val_loss: 0.8498 - val_accuracy: 0.7088\n",
            "Epoch 7/15\n",
            "250/250 [==============================] - 2s 9ms/step - loss: 0.6732 - accuracy: 0.7677 - val_loss: 0.8549 - val_accuracy: 0.7057\n",
            "Epoch 8/15\n",
            "250/250 [==============================] - 2s 9ms/step - loss: 0.5947 - accuracy: 0.7970 - val_loss: 0.8452 - val_accuracy: 0.7139\n",
            "Epoch 9/15\n",
            "250/250 [==============================] - 2s 9ms/step - loss: 0.5342 - accuracy: 0.8151 - val_loss: 0.8381 - val_accuracy: 0.7173\n",
            "Epoch 10/15\n",
            "250/250 [==============================] - 2s 9ms/step - loss: 0.4685 - accuracy: 0.8394 - val_loss: 0.8623 - val_accuracy: 0.7246\n",
            "Epoch 11/15\n",
            "250/250 [==============================] - 2s 9ms/step - loss: 0.4235 - accuracy: 0.8550 - val_loss: 0.8818 - val_accuracy: 0.7193\n",
            "Epoch 12/15\n",
            "250/250 [==============================] - 2s 9ms/step - loss: 0.3594 - accuracy: 0.8781 - val_loss: 0.9359 - val_accuracy: 0.7198\n",
            "Epoch 13/15\n",
            "250/250 [==============================] - 2s 9ms/step - loss: 0.3091 - accuracy: 0.8962 - val_loss: 0.9732 - val_accuracy: 0.7167\n",
            "Epoch 14/15\n",
            "250/250 [==============================] - 2s 9ms/step - loss: 0.2736 - accuracy: 0.9082 - val_loss: 1.0710 - val_accuracy: 0.7097\n",
            "Epoch 15/15\n",
            "250/250 [==============================] - 2s 9ms/step - loss: 0.2247 - accuracy: 0.9272 - val_loss: 1.0760 - val_accuracy: 0.7168\n"
          ],
          "name": "stdout"
        },
        {
          "output_type": "execute_result",
          "data": {
            "text/plain": [
              "<tensorflow.python.keras.callbacks.History at 0x7f5e4126eda0>"
            ]
          },
          "metadata": {
            "tags": []
          },
          "execution_count": 9
        }
      ]
    },
    {
      "cell_type": "code",
      "metadata": {
        "colab": {
          "base_uri": "https://localhost:8080/",
          "height": 204
        },
        "id": "Zvf33CBcHNQA",
        "outputId": "32592796-918f-43b9-ec21-4e3118927412"
      },
      "source": [
        "df = pd.DataFrame(model.history.history)\n",
        "df.tail()"
      ],
      "execution_count": 10,
      "outputs": [
        {
          "output_type": "execute_result",
          "data": {
            "text/html": [
              "<div>\n",
              "<style scoped>\n",
              "    .dataframe tbody tr th:only-of-type {\n",
              "        vertical-align: middle;\n",
              "    }\n",
              "\n",
              "    .dataframe tbody tr th {\n",
              "        vertical-align: top;\n",
              "    }\n",
              "\n",
              "    .dataframe thead th {\n",
              "        text-align: right;\n",
              "    }\n",
              "</style>\n",
              "<table border=\"1\" class=\"dataframe\">\n",
              "  <thead>\n",
              "    <tr style=\"text-align: right;\">\n",
              "      <th></th>\n",
              "      <th>loss</th>\n",
              "      <th>accuracy</th>\n",
              "      <th>val_loss</th>\n",
              "      <th>val_accuracy</th>\n",
              "    </tr>\n",
              "  </thead>\n",
              "  <tbody>\n",
              "    <tr>\n",
              "      <th>10</th>\n",
              "      <td>0.428208</td>\n",
              "      <td>0.85204</td>\n",
              "      <td>0.881758</td>\n",
              "      <td>0.7193</td>\n",
              "    </tr>\n",
              "    <tr>\n",
              "      <th>11</th>\n",
              "      <td>0.374869</td>\n",
              "      <td>0.87076</td>\n",
              "      <td>0.935862</td>\n",
              "      <td>0.7198</td>\n",
              "    </tr>\n",
              "    <tr>\n",
              "      <th>12</th>\n",
              "      <td>0.320235</td>\n",
              "      <td>0.89152</td>\n",
              "      <td>0.973165</td>\n",
              "      <td>0.7167</td>\n",
              "    </tr>\n",
              "    <tr>\n",
              "      <th>13</th>\n",
              "      <td>0.279278</td>\n",
              "      <td>0.90436</td>\n",
              "      <td>1.071038</td>\n",
              "      <td>0.7097</td>\n",
              "    </tr>\n",
              "    <tr>\n",
              "      <th>14</th>\n",
              "      <td>0.227723</td>\n",
              "      <td>0.92404</td>\n",
              "      <td>1.076035</td>\n",
              "      <td>0.7168</td>\n",
              "    </tr>\n",
              "  </tbody>\n",
              "</table>\n",
              "</div>"
            ],
            "text/plain": [
              "        loss  accuracy  val_loss  val_accuracy\n",
              "10  0.428208   0.85204  0.881758        0.7193\n",
              "11  0.374869   0.87076  0.935862        0.7198\n",
              "12  0.320235   0.89152  0.973165        0.7167\n",
              "13  0.279278   0.90436  1.071038        0.7097\n",
              "14  0.227723   0.92404  1.076035        0.7168"
            ]
          },
          "metadata": {
            "tags": []
          },
          "execution_count": 10
        }
      ]
    },
    {
      "cell_type": "code",
      "metadata": {
        "colab": {
          "base_uri": "https://localhost:8080/",
          "height": 282
        },
        "id": "ZO3hrLOHVvDB",
        "outputId": "6860027a-64e5-44e3-f9d1-ca889f471908"
      },
      "source": [
        "df.plot()"
      ],
      "execution_count": 11,
      "outputs": [
        {
          "output_type": "execute_result",
          "data": {
            "text/plain": [
              "<matplotlib.axes._subplots.AxesSubplot at 0x7f5dd03a7eb8>"
            ]
          },
          "metadata": {
            "tags": []
          },
          "execution_count": 11
        },
        {
          "output_type": "display_data",
          "data": {
            "image/png": "[encoded data removed]",
            "text/plain": [
              "<Figure size 432x288 with 1 Axes>"
            ]
          },
          "metadata": {
            "tags": [],
            "needs_background": "light"
          }
        }
      ]
    },
    {
      "cell_type": "code",
      "metadata": {
        "id": "u5U95SW4Vw-C"
      },
      "source": [
        "from sklearn import metrics"
      ],
      "execution_count": 12,
      "outputs": []
    },
    {
      "cell_type": "code",
      "metadata": {
        "colab": {
          "base_uri": "https://localhost:8080/"
        },
        "id": "1iBWgwTGW7Gw",
        "outputId": "484d0ebc-c518-4d7a-9032-9d3587622e1f"
      },
      "source": [
        "model.evaluate(x_test, y_cat_test,verbose=1)"
      ],
      "execution_count": 13,
      "outputs": [
        {
          "output_type": "stream",
          "text": [
            "313/313 [==============================] - 1s 4ms/step - loss: 1.0760 - accuracy: 0.7168\n"
          ],
          "name": "stdout"
        },
        {
          "output_type": "execute_result",
          "data": {
            "text/plain": [
              "[1.0760343074798584, 0.7167999744415283]"
            ]
          },
          "metadata": {
            "tags": []
          },
          "execution_count": 13
        }
      ]
    },
    {
      "cell_type": "code",
      "metadata": {
        "colab": {
          "base_uri": "https://localhost:8080/"
        },
        "id": "CJg8zuN3XLE4",
        "outputId": "3d409902-3d75-42d1-9a84-2f22938066bc"
      },
      "source": [
        "model.evaluate(x_train, y_cat_train,verbose=1)"
      ],
      "execution_count": 14,
      "outputs": [
        {
          "output_type": "stream",
          "text": [
            "1563/1563 [==============================] - 5s 3ms/step - loss: 0.1924 - accuracy: 0.9365\n"
          ],
          "name": "stdout"
        },
        {
          "output_type": "execute_result",
          "data": {
            "text/plain": [
              "[0.1924106776714325, 0.936519980430603]"
            ]
          },
          "metadata": {
            "tags": []
          },
          "execution_count": 14
        }
      ]
    },
    {
      "cell_type": "code",
      "metadata": {
        "colab": {
          "base_uri": "https://localhost:8080/"
        },
        "id": "bATdsurEXP-z",
        "outputId": "3e81c7e5-e1b9-41e4-bf03-4eee57fb5dc6"
      },
      "source": [
        "y_pred = model.predict_classes(x_test)\n",
        "print(y_pred)\n",
        "\n",
        "metrics.confusion_matrix(y_test,y_pred)"
      ],
      "execution_count": 15,
      "outputs": [
        {
          "output_type": "stream",
          "text": [
            "/usr/local/lib/python3.6/dist-packages/tensorflow/python/keras/engine/sequential.py:450: UserWarning: `model.predict_classes()` is deprecated and will be removed after 2021-01-01. Please use instead:* `np.argmax(model.predict(x), axis=-1)`,   if your model does multi-class classification   (e.g. if it uses a `softmax` last-layer activation).* `(model.predict(x) > 0.5).astype(\"int32\")`,   if your model does binary classification   (e.g. if it uses a `sigmoid` last-layer activation).\n",
            "  warnings.warn('`model.predict_classes()` is deprecated and '\n"
          ],
          "name": "stderr"
        },
        {
          "output_type": "stream",
          "text": [
            "[3 8 8 ... 5 4 7]\n"
          ],
          "name": "stdout"
        },
        {
          "output_type": "execute_result",
          "data": {
            "text/plain": [
              "array([[741,  18,  49,  27,  28,   3,  14,  12,  69,  39],\n",
              "       [ 12, 804,   6,  14,   3,   3,  12,   0,  38, 108],\n",
              "       [ 57,   7, 609,  69,  98,  39,  60,  34,  14,  13],\n",
              "       [ 23,  17,  91, 540,  95,  97,  54,  39,  16,  28],\n",
              "       [  6,   5,  68,  40, 746,  13,  36,  69,  14,   3],\n",
              "       [ 11,   3,  75, 232,  80, 476,  21,  78,  11,  13],\n",
              "       [  7,  10,  41,  74,  56,  20, 767,   7,   9,   9],\n",
              "       [ 18,   5,  37,  41,  65,  26,   6, 791,   1,  10],\n",
              "       [ 42,  25,   9,  12,   9,   2,   7,   7, 857,  30],\n",
              "       [ 24,  65,   6,  17,   4,   4,   3,  13,  27, 837]])"
            ]
          },
          "metadata": {
            "tags": []
          },
          "execution_count": 15
        }
      ]
    },
    {
      "cell_type": "code",
      "metadata": {
        "colab": {
          "base_uri": "https://localhost:8080/",
          "height": 283
        },
        "id": "ihkQhGccYdfE",
        "outputId": "7800a117-69e5-495f-b11b-80b6cb30be3a"
      },
      "source": [
        "my_img = x_train[5]\n",
        "\n",
        "plt.imshow(my_img)\n",
        "print(y_train[5])"
      ],
      "execution_count": 16,
      "outputs": [
        {
          "output_type": "stream",
          "text": [
            "[1]\n"
          ],
          "name": "stdout"
        },
        {
          "output_type": "display_data",
          "data": {
            "image/png": "[encoded data removed]",
            "text/plain": [
              "<Figure size 432x288 with 1 Axes>"
            ]
          },
          "metadata": {
            "tags": [],
            "needs_background": "light"
          }
        }
      ]
    },
    {
      "cell_type": "code",
      "metadata": {
        "colab": {
          "base_uri": "https://localhost:8080/"
        },
        "id": "dO0LOQ1dIrJ6",
        "outputId": "9fb92b40-6398-4f93-c2d9-f757c1c9c002"
      },
      "source": [
        "model.predict_classes(my_img.reshape(1,32,32,3))"
      ],
      "execution_count": 17,
      "outputs": [
        {
          "output_type": "stream",
          "text": [
            "/usr/local/lib/python3.6/dist-packages/tensorflow/python/keras/engine/sequential.py:450: UserWarning: `model.predict_classes()` is deprecated and will be removed after 2021-01-01. Please use instead:* `np.argmax(model.predict(x), axis=-1)`,   if your model does multi-class classification   (e.g. if it uses a `softmax` last-layer activation).* `(model.predict(x) > 0.5).astype(\"int32\")`,   if your model does binary classification   (e.g. if it uses a `sigmoid` last-layer activation).\n",
            "  warnings.warn('`model.predict_classes()` is deprecated and '\n"
          ],
          "name": "stderr"
        },
        {
          "output_type": "execute_result",
          "data": {
            "text/plain": [
              "array([1])"
            ]
          },
          "metadata": {
            "tags": []
          },
          "execution_count": 17
        }
      ]
    },
    {
      "cell_type": "code",
      "metadata": {
        "id": "vcP0b1ZxI8d_"
      },
      "source": [
        ""
      ],
      "execution_count": 17,
      "outputs": []
    }
  ]
}
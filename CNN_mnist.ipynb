{
  "nbformat": 4,
  "nbformat_minor": 0,
  "metadata": {
    "colab": {
      "name": "CNN_mnist.ipynb",
      "provenance": [],
      "authorship_tag": "ABX9TyN2PYPKqW7DPtDankqTV+zV",
      "include_colab_link": true
    },
    "kernelspec": {
      "name": "python3",
      "display_name": "Python 3"
    }
  },
  "cells": [
    {
      "cell_type": "markdown",
      "metadata": {
        "id": "view-in-github",
        "colab_type": "text"
      },
      "source": [
        "<a href=\"https://colab.research.google.com/github/pranavgarg1506/deeplearning/blob/main/CNN_mnist.ipynb\" target=\"_parent\"><img src=\"https://colab.research.google.com/assets/colab-badge.svg\" alt=\"Open In Colab\"/></a>"
      ]
    },
    {
      "cell_type": "code",
      "metadata": {
        "id": "qtTu35woddIU"
      },
      "source": [
        "import numpy as np\n",
        "import pandas as pd\n",
        "import tensorflow as tf\n",
        "\n",
        "import matplotlib.pyplot as plt"
      ],
      "execution_count": 1,
      "outputs": []
    },
    {
      "cell_type": "code",
      "metadata": {
        "colab": {
          "base_uri": "https://localhost:8080/"
        },
        "id": "Mhlx1qKidhIe",
        "outputId": "42bb0d48-b1ab-48f7-d3c1-c5a0eeb7b002"
      },
      "source": [
        "print(\"TensorFlow Version\",tf.__version__)\n",
        "print(\"numpy Version\",np.__version__)\n",
        "print(\"Pandas Version\",pd.__version__)"
      ],
      "execution_count": 2,
      "outputs": [
        {
          "output_type": "stream",
          "text": [
            "TensorFlow Version 2.4.1\n",
            "numpy Version 1.19.5\n",
            "Pandas Version 1.1.5\n"
          ],
          "name": "stdout"
        }
      ]
    },
    {
      "cell_type": "code",
      "metadata": {
        "colab": {
          "base_uri": "https://localhost:8080/"
        },
        "id": "SnKpH_kpdl5X",
        "outputId": "a21c6170-4ce7-456c-a469-b01312603b53"
      },
      "source": [
        "## loading mnsit dataset\n",
        "\n",
        "(x_train, y_train), (x_test, y_test) = tf.keras.datasets.mnist.load_data()\n",
        "print(\"training example shape\",x_train.shape)\n",
        "print(\"test example shape\",x_test.shape)\n"
      ],
      "execution_count": 3,
      "outputs": [
        {
          "output_type": "stream",
          "text": [
            "training example shape (60000, 28, 28)\n",
            "test example shape (10000, 28, 28)\n"
          ],
          "name": "stdout"
        }
      ]
    },
    {
      "cell_type": "code",
      "metadata": {
        "colab": {
          "base_uri": "https://localhost:8080/",
          "height": 282
        },
        "id": "GPtG1I9Ee3U0",
        "outputId": "f993b62e-7ea8-4fdb-a5e5-03294c72c646"
      },
      "source": [
        "## plotting a single image\n",
        "\n",
        "single_img = x_train[0]\n",
        "plt.imshow(single_img)\n",
        "plt.show()\n",
        "print(y_train[0])\n"
      ],
      "execution_count": 4,
      "outputs": [
        {
          "output_type": "display_data",
          "data": {
            "image/png": "[encoded data removed]",
            "text/plain": [
              "<Figure size 432x288 with 1 Axes>"
            ]
          },
          "metadata": {
            "tags": [],
            "needs_background": "light"
          }
        },
        {
          "output_type": "stream",
          "text": [
            "5\n"
          ],
          "name": "stdout"
        }
      ]
    },
    {
      "cell_type": "code",
      "metadata": {
        "colab": {
          "base_uri": "https://localhost:8080/"
        },
        "id": "R84zhnIVfEoz",
        "outputId": "28a956cc-c439-40df-c7c1-3f95ae898825"
      },
      "source": [
        "## standardinzing the data\n",
        "\n",
        "x_train = x_train / 255\n",
        "x_test = x_test / 255\n",
        "\n",
        "## reshaping the x_train data to 4 dimensions\n",
        "## no. of images, height, widthm color_channels\n",
        "\n",
        "print(\"Original train shape\",x_train.shape)\n",
        "print(\"Original test shape\",x_test.shape)\n",
        "print(\"--------\")\n",
        "x_train = x_train.reshape((60000,28,28,1))\n",
        "x_test = x_test.reshape((10000,28,28,1))\n",
        "print(\"--------\")\n",
        "print(\"Modified train shape\",x_train.shape)\n",
        "print(\"Modified test shape\",x_test.shape)\n",
        "\n"
      ],
      "execution_count": 5,
      "outputs": [
        {
          "output_type": "stream",
          "text": [
            "Original train shape (60000, 28, 28)\n",
            "Original test shape (10000, 28, 28)\n",
            "--------\n",
            "--------\n",
            "Modified train shape (60000, 28, 28, 1)\n",
            "Modified test shape (10000, 28, 28, 1)\n"
          ],
          "name": "stdout"
        }
      ]
    },
    {
      "cell_type": "code",
      "metadata": {
        "id": "y1cY9woqvyNK"
      },
      "source": [
        "## it is a classification problem lets convert the y into category\n",
        "\n",
        "y_cat_train = tf.keras.utils.to_categorical(y_train,num_classes=10)\n",
        "y_cat_test = tf.keras.utils.to_categorical(y_test,num_classes=10)"
      ],
      "execution_count": 6,
      "outputs": []
    },
    {
      "cell_type": "code",
      "metadata": {
        "id": "gAImdIVENpk8"
      },
      "source": [
        "## making the model\n",
        "numberOfParameters = []\n",
        "model = tf.keras.models.Sequential()\n",
        "\n",
        "## add layers\n",
        "\n",
        "## layer 1\n",
        "model.add( tf.keras.layers.Conv2D(filters= 32, kernel_size=(5,5),input_shape = (28,28,1), activation='relu', padding='valid')  )\n",
        "## output shape ---> (28 - 5 + 2 * 0)/1 + 1  --->  24*24*32\n",
        "numberOfParameters.append((5*5+1)*32)\n",
        "model.add( tf.keras.layers.MaxPool2D(pool_size=(2,2) ,padding='valid') )\n",
        "## output shape --->  (24 - 2 )/2 + 1  --->   12*12*32\n",
        "numberOfParameters.append(0)\n",
        "\n",
        "## layer 2\n",
        "model.add( tf.keras.layers.Conv2D(filters= 64, kernel_size=(5,5), activation='relu', padding='valid')  )\n",
        "## output shape --->   8*8*64\n",
        "numberOfParameters.append((5*5*32+1)*64)\n",
        "model.add( tf.keras.layers.MaxPool2D(pool_size=(2,2) ,padding='valid') )\n",
        "## output shape --->  4*4*64\n",
        "numberOfParameters.append(0)\n",
        "\n",
        "# layer 3\n",
        "model.add( tf.keras.layers.Flatten()  )\n",
        "# 1*1024\n",
        "numberOfParameters.append(0)\n",
        "\n",
        "model.add( tf.keras.layers.Dense(64,activation='relu') )\n",
        "numberOfParameters.append((1024+1)*64)\n",
        "model.add( tf.keras.layers.Dense(10,activation='softmax') )\n",
        "numberOfParameters.append((64+1)*10)"
      ],
      "execution_count": 7,
      "outputs": []
    },
    {
      "cell_type": "code",
      "metadata": {
        "colab": {
          "base_uri": "https://localhost:8080/"
        },
        "id": "43LC_cihPl_3",
        "outputId": "cfa61153-23bd-4744-e2e6-c8709a53fc38"
      },
      "source": [
        "model.compile(optimizer='adam', loss='categorical_crossentropy', metrics=['accuracy'])\n",
        "\n",
        "model.fit(x_train,y_cat_train, epochs=10, verbose=1, validation_data=(x_test, y_cat_test))"
      ],
      "execution_count": 8,
      "outputs": [
        {
          "output_type": "stream",
          "text": [
            "Epoch 1/10\n",
            "1875/1875 [==============================] - 63s 33ms/step - loss: 0.3155 - accuracy: 0.9027 - val_loss: 0.0567 - val_accuracy: 0.9812\n",
            "Epoch 2/10\n",
            "1875/1875 [==============================] - 61s 33ms/step - loss: 0.0435 - accuracy: 0.9864 - val_loss: 0.0332 - val_accuracy: 0.9897\n",
            "Epoch 3/10\n",
            "1875/1875 [==============================] - 62s 33ms/step - loss: 0.0268 - accuracy: 0.9913 - val_loss: 0.0332 - val_accuracy: 0.9890\n",
            "Epoch 4/10\n",
            "1875/1875 [==============================] - 62s 33ms/step - loss: 0.0199 - accuracy: 0.9933 - val_loss: 0.0265 - val_accuracy: 0.9913\n",
            "Epoch 5/10\n",
            "1875/1875 [==============================] - 63s 33ms/step - loss: 0.0158 - accuracy: 0.9950 - val_loss: 0.0295 - val_accuracy: 0.9911\n",
            "Epoch 6/10\n",
            "1875/1875 [==============================] - 63s 33ms/step - loss: 0.0122 - accuracy: 0.9967 - val_loss: 0.0354 - val_accuracy: 0.9898\n",
            "Epoch 7/10\n",
            "1875/1875 [==============================] - 62s 33ms/step - loss: 0.0113 - accuracy: 0.9961 - val_loss: 0.0285 - val_accuracy: 0.9919\n",
            "Epoch 8/10\n",
            "1875/1875 [==============================] - 62s 33ms/step - loss: 0.0084 - accuracy: 0.9972 - val_loss: 0.0364 - val_accuracy: 0.9908\n",
            "Epoch 9/10\n",
            "1875/1875 [==============================] - 63s 34ms/step - loss: 0.0068 - accuracy: 0.9973 - val_loss: 0.0378 - val_accuracy: 0.9923\n",
            "Epoch 10/10\n",
            "1875/1875 [==============================] - 63s 34ms/step - loss: 0.0064 - accuracy: 0.9977 - val_loss: 0.0375 - val_accuracy: 0.9918\n"
          ],
          "name": "stdout"
        },
        {
          "output_type": "execute_result",
          "data": {
            "text/plain": [
              "<tensorflow.python.keras.callbacks.History at 0x7f93f1a569b0>"
            ]
          },
          "metadata": {
            "tags": []
          },
          "execution_count": 8
        }
      ]
    },
    {
      "cell_type": "code",
      "metadata": {
        "colab": {
          "base_uri": "https://localhost:8080/",
          "height": 204
        },
        "id": "RVxffq0ERdQG",
        "outputId": "cccd6470-a0c1-4e8f-acd2-47fea14e1d07"
      },
      "source": [
        "df = pd.DataFrame(model.history.history)\n",
        "df.tail()"
      ],
      "execution_count": 9,
      "outputs": [
        {
          "output_type": "execute_result",
          "data": {
            "text/html": [
              "<div>\n",
              "<style scoped>\n",
              "    .dataframe tbody tr th:only-of-type {\n",
              "        vertical-align: middle;\n",
              "    }\n",
              "\n",
              "    .dataframe tbody tr th {\n",
              "        vertical-align: top;\n",
              "    }\n",
              "\n",
              "    .dataframe thead th {\n",
              "        text-align: right;\n",
              "    }\n",
              "</style>\n",
              "<table border=\"1\" class=\"dataframe\">\n",
              "  <thead>\n",
              "    <tr style=\"text-align: right;\">\n",
              "      <th></th>\n",
              "      <th>loss</th>\n",
              "      <th>accuracy</th>\n",
              "      <th>val_loss</th>\n",
              "      <th>val_accuracy</th>\n",
              "    </tr>\n",
              "  </thead>\n",
              "  <tbody>\n",
              "    <tr>\n",
              "      <th>5</th>\n",
              "      <td>0.013993</td>\n",
              "      <td>0.995833</td>\n",
              "      <td>0.035381</td>\n",
              "      <td>0.9898</td>\n",
              "    </tr>\n",
              "    <tr>\n",
              "      <th>6</th>\n",
              "      <td>0.010949</td>\n",
              "      <td>0.996200</td>\n",
              "      <td>0.028458</td>\n",
              "      <td>0.9919</td>\n",
              "    </tr>\n",
              "    <tr>\n",
              "      <th>7</th>\n",
              "      <td>0.010050</td>\n",
              "      <td>0.996750</td>\n",
              "      <td>0.036370</td>\n",
              "      <td>0.9908</td>\n",
              "    </tr>\n",
              "    <tr>\n",
              "      <th>8</th>\n",
              "      <td>0.007858</td>\n",
              "      <td>0.997233</td>\n",
              "      <td>0.037773</td>\n",
              "      <td>0.9923</td>\n",
              "    </tr>\n",
              "    <tr>\n",
              "      <th>9</th>\n",
              "      <td>0.007614</td>\n",
              "      <td>0.997200</td>\n",
              "      <td>0.037535</td>\n",
              "      <td>0.9918</td>\n",
              "    </tr>\n",
              "  </tbody>\n",
              "</table>\n",
              "</div>"
            ],
            "text/plain": [
              "       loss  accuracy  val_loss  val_accuracy\n",
              "5  0.013993  0.995833  0.035381        0.9898\n",
              "6  0.010949  0.996200  0.028458        0.9919\n",
              "7  0.010050  0.996750  0.036370        0.9908\n",
              "8  0.007858  0.997233  0.037773        0.9923\n",
              "9  0.007614  0.997200  0.037535        0.9918"
            ]
          },
          "metadata": {
            "tags": []
          },
          "execution_count": 9
        }
      ]
    },
    {
      "cell_type": "code",
      "metadata": {
        "colab": {
          "base_uri": "https://localhost:8080/",
          "height": 284
        },
        "id": "7f-BBEZdUd_W",
        "outputId": "e7415347-1537-41e6-d64f-287fac710809"
      },
      "source": [
        "df[['loss', 'val_loss']].plot()"
      ],
      "execution_count": 10,
      "outputs": [
        {
          "output_type": "execute_result",
          "data": {
            "text/plain": [
              "<matplotlib.axes._subplots.AxesSubplot at 0x7f93e25c6470>"
            ]
          },
          "metadata": {
            "tags": []
          },
          "execution_count": 10
        },
        {
          "output_type": "display_data",
          "data": {
            "image/png": "[encoded data removed]",
            "text/plain": [
              "<Figure size 432x288 with 1 Axes>"
            ]
          },
          "metadata": {
            "tags": [],
            "needs_background": "light"
          }
        }
      ]
    },
    {
      "cell_type": "code",
      "metadata": {
        "colab": {
          "base_uri": "https://localhost:8080/",
          "height": 282
        },
        "id": "tUeI5Glpf7rg",
        "outputId": "dfb78391-dfc5-4c78-8de0-78f39d8a78f5"
      },
      "source": [
        "df[['accuracy', 'val_accuracy']].plot()"
      ],
      "execution_count": 11,
      "outputs": [
        {
          "output_type": "execute_result",
          "data": {
            "text/plain": [
              "<matplotlib.axes._subplots.AxesSubplot at 0x7f93e24d1a90>"
            ]
          },
          "metadata": {
            "tags": []
          },
          "execution_count": 11
        },
        {
          "output_type": "display_data",
          "data": {
            "image/png": "[encoded data removed]",
            "text/plain": [
              "<Figure size 432x288 with 1 Axes>"
            ]
          },
          "metadata": {
            "tags": [],
            "needs_background": "light"
          }
        }
      ]
    },
    {
      "cell_type": "code",
      "metadata": {
        "colab": {
          "base_uri": "https://localhost:8080/"
        },
        "id": "2Cl8MUaP-OgM",
        "outputId": "fa3fc6fd-f094-4b27-e594-752557d306c7"
      },
      "source": [
        "model.metrics_names"
      ],
      "execution_count": 12,
      "outputs": [
        {
          "output_type": "execute_result",
          "data": {
            "text/plain": [
              "['loss', 'accuracy']"
            ]
          },
          "metadata": {
            "tags": []
          },
          "execution_count": 12
        }
      ]
    },
    {
      "cell_type": "code",
      "metadata": {
        "colab": {
          "base_uri": "https://localhost:8080/"
        },
        "id": "Wj5c6a9c-Sj2",
        "outputId": "28c2f30d-7265-4e2d-dcf0-ab4239d36922"
      },
      "source": [
        "model.evaluate(x_test, y_cat_test)"
      ],
      "execution_count": 13,
      "outputs": [
        {
          "output_type": "stream",
          "text": [
            "313/313 [==============================] - 3s 9ms/step - loss: 0.0375 - accuracy: 0.9918\n"
          ],
          "name": "stdout"
        },
        {
          "output_type": "execute_result",
          "data": {
            "text/plain": [
              "[0.03753536194562912, 0.9918000102043152]"
            ]
          },
          "metadata": {
            "tags": []
          },
          "execution_count": 13
        }
      ]
    },
    {
      "cell_type": "code",
      "metadata": {
        "colab": {
          "base_uri": "https://localhost:8080/"
        },
        "id": "OEoiJq9c-Xgp",
        "outputId": "1f32f2a2-e3a7-49d7-d391-240cfd9aaf7a"
      },
      "source": [
        "model.summary()"
      ],
      "execution_count": 14,
      "outputs": [
        {
          "output_type": "stream",
          "text": [
            "Model: \"sequential\"\n",
            "_________________________________________________________________\n",
            "Layer (type)                 Output Shape              Param #   \n",
            "=================================================================\n",
            "conv2d (Conv2D)              (None, 24, 24, 32)        832       \n",
            "_________________________________________________________________\n",
            "max_pooling2d (MaxPooling2D) (None, 12, 12, 32)        0         \n",
            "_________________________________________________________________\n",
            "conv2d_1 (Conv2D)            (None, 8, 8, 64)          51264     \n",
            "_________________________________________________________________\n",
            "max_pooling2d_1 (MaxPooling2 (None, 4, 4, 64)          0         \n",
            "_________________________________________________________________\n",
            "flatten (Flatten)            (None, 1024)              0         \n",
            "_________________________________________________________________\n",
            "dense (Dense)                (None, 64)                65600     \n",
            "_________________________________________________________________\n",
            "dense_1 (Dense)              (None, 10)                650       \n",
            "=================================================================\n",
            "Total params: 118,346\n",
            "Trainable params: 118,346\n",
            "Non-trainable params: 0\n",
            "_________________________________________________________________\n"
          ],
          "name": "stdout"
        }
      ]
    },
    {
      "cell_type": "code",
      "metadata": {
        "colab": {
          "base_uri": "https://localhost:8080/"
        },
        "id": "0tDfHQy3Ascj",
        "outputId": "78e3eed9-5d70-4b9f-ddd9-584d7afa7614"
      },
      "source": [
        "print(\"numberOfParameters\",numberOfParameters,sep='\\n')"
      ],
      "execution_count": 15,
      "outputs": [
        {
          "output_type": "stream",
          "text": [
            "numberOfParameters\n",
            "[832, 0, 51264, 0, 0, 65600, 650]\n"
          ],
          "name": "stdout"
        }
      ]
    }
  ]
}
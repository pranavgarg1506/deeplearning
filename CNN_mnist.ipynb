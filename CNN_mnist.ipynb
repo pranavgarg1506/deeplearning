{
  "nbformat": 4,
  "nbformat_minor": 0,
  "metadata": {
    "colab": {
      "name": "CNN_mnist.ipynb",
      "provenance": [],
      "authorship_tag": "ABX9TyM8LO2diVJ6L0eE4YdIZCUC",
      "include_colab_link": true
    },
    "kernelspec": {
      "name": "python3",
      "display_name": "Python 3"
    },
    "accelerator": "GPU"
  },
  "cells": [
    {
      "cell_type": "markdown",
      "metadata": {
        "id": "view-in-github",
        "colab_type": "text"
      },
      "source": [
        "<a href=\"https://colab.research.google.com/github/pranavgarg1506/deeplearning/blob/main/CNN_mnist.ipynb\" target=\"_parent\"><img src=\"https://colab.research.google.com/assets/colab-badge.svg\" alt=\"Open In Colab\"/></a>"
      ]
    },
    {
      "cell_type": "code",
      "metadata": {
        "id": "qtTu35woddIU"
      },
      "source": [
        "import numpy as np\n",
        "import pandas as pd\n",
        "import tensorflow as tf\n",
        "\n",
        "import matplotlib.pyplot as plt"
      ],
      "execution_count": 23,
      "outputs": []
    },
    {
      "cell_type": "code",
      "metadata": {
        "colab": {
          "base_uri": "https://localhost:8080/"
        },
        "id": "Mhlx1qKidhIe",
        "outputId": "b9efd9f5-169b-4781-d88f-7276a149a8a9"
      },
      "source": [
        "print(\"TensorFlow Version\",tf.__version__)\n",
        "print(\"numpy Version\",np.__version__)\n",
        "print(\"Pandas Version\",pd.__version__)"
      ],
      "execution_count": 24,
      "outputs": [
        {
          "output_type": "stream",
          "text": [
            "TensorFlow Version 2.4.1\n",
            "numpy Version 1.19.5\n",
            "Pandas Version 1.1.5\n"
          ],
          "name": "stdout"
        }
      ]
    },
    {
      "cell_type": "code",
      "metadata": {
        "colab": {
          "base_uri": "https://localhost:8080/"
        },
        "id": "SnKpH_kpdl5X",
        "outputId": "b9bd244d-550e-4fae-fab4-699a540b68e5"
      },
      "source": [
        "## loading mnsit dataset\n",
        "\n",
        "(x_train, y_train), (x_test, y_test) = tf.keras.datasets.mnist.load_data()\n",
        "print(\"training example shape\",x_train.shape)\n",
        "print(\"test example shape\",x_test.shape)\n"
      ],
      "execution_count": 25,
      "outputs": [
        {
          "output_type": "stream",
          "text": [
            "training example shape (60000, 28, 28)\n",
            "test example shape (10000, 28, 28)\n"
          ],
          "name": "stdout"
        }
      ]
    },
    {
      "cell_type": "code",
      "metadata": {
        "colab": {
          "base_uri": "https://localhost:8080/",
          "height": 282
        },
        "id": "GPtG1I9Ee3U0",
        "outputId": "8fc821b8-e0e3-4c8a-814b-ee5ebc126cef"
      },
      "source": [
        "## plotting a single image\n",
        "\n",
        "single_img = x_train[0]\n",
        "plt.imshow(single_img)\n",
        "plt.show()\n",
        "print(y_train[0])\n"
      ],
      "execution_count": 26,
      "outputs": [
        {
          "output_type": "display_data",
          "data": {
            "image/png": "[encoded data removed]",
            "text/plain": [
              "<Figure size 432x288 with 1 Axes>"
            ]
          },
          "metadata": {
            "tags": [],
            "needs_background": "light"
          }
        },
        {
          "output_type": "stream",
          "text": [
            "5\n"
          ],
          "name": "stdout"
        }
      ]
    },
    {
      "cell_type": "code",
      "metadata": {
        "colab": {
          "base_uri": "https://localhost:8080/"
        },
        "id": "R84zhnIVfEoz",
        "outputId": "b844810a-f210-4450-cca0-050244ed099a"
      },
      "source": [
        "## standardinzing the data\n",
        "\n",
        "x_train = x_train / 255\n",
        "x_test = x_test / 255\n",
        "\n",
        "## reshaping the x_train data to 4 dimensions\n",
        "## no. of images, height, widthm color_channels\n",
        "\n",
        "print(\"Original train shape\",x_train.shape)\n",
        "print(\"Original test shape\",x_test.shape)\n",
        "print(\"--------\")\n",
        "x_train = x_train.reshape((60000,28,28,1))\n",
        "x_test = x_test.reshape((10000,28,28,1))\n",
        "print(\"--------\")\n",
        "print(\"Modified train shape\",x_train.shape)\n",
        "print(\"Modified test shape\",x_test.shape)\n",
        "\n"
      ],
      "execution_count": 27,
      "outputs": [
        {
          "output_type": "stream",
          "text": [
            "Original train shape (60000, 28, 28)\n",
            "Original test shape (10000, 28, 28)\n",
            "--------\n",
            "--------\n",
            "Modified train shape (60000, 28, 28, 1)\n",
            "Modified test shape (10000, 28, 28, 1)\n"
          ],
          "name": "stdout"
        }
      ]
    },
    {
      "cell_type": "code",
      "metadata": {
        "id": "y1cY9woqvyNK"
      },
      "source": [
        "## it is a classification problem lets convert the y into category\n",
        "\n",
        "y_cat_train = tf.keras.utils.to_categorical(y_train,num_classes=10)\n",
        "y_cat_test = tf.keras.utils.to_categorical(y_test,num_classes=10)"
      ],
      "execution_count": 28,
      "outputs": []
    },
    {
      "cell_type": "code",
      "metadata": {
        "id": "gAImdIVENpk8"
      },
      "source": [
        "## making the model\n",
        "numberOfParameters = []\n",
        "model = tf.keras.models.Sequential()\n",
        "\n",
        "## add layers\n",
        "\n",
        "## layer 1\n",
        "model.add( tf.keras.layers.Conv2D(filters= 32, kernel_size=(5,5),input_shape = (28,28,1), activation='relu', padding='valid')  )\n",
        "## output shape ---> (28 - 5 + 2 * 0)/1 + 1  --->  24*24*32\n",
        "numberOfParameters.append((5*5+1)*32)\n",
        "model.add( tf.keras.layers.MaxPool2D(pool_size=(2,2) ,padding='valid') )\n",
        "## output shape --->  (24 - 2 )/2 + 1  --->   12*12*32\n",
        "numberOfParameters.append(0)\n",
        "\n",
        "## layer 2\n",
        "model.add( tf.keras.layers.Conv2D(filters= 64, kernel_size=(5,5), activation='relu', padding='valid')  )\n",
        "## output shape --->   8*8*64\n",
        "numberOfParameters.append((5*5*32+1)*64)\n",
        "model.add( tf.keras.layers.MaxPool2D(pool_size=(2,2) ,padding='valid') )\n",
        "## output shape --->  4*4*64\n",
        "numberOfParameters.append(0)\n",
        "\n",
        "# layer 3\n",
        "model.add( tf.keras.layers.Flatten()  )\n",
        "# 1*1024\n",
        "numberOfParameters.append(0)\n",
        "model.add(tf.keras.layers.Dropout(0.25))\n",
        "model.add( tf.keras.layers.Dense(64,activation='relu') )\n",
        "numberOfParameters.append((1024+1)*64)\n",
        "model.add( tf.keras.layers.Dense(10,activation='softmax') )\n",
        "numberOfParameters.append((64+1)*10)"
      ],
      "execution_count": 29,
      "outputs": []
    },
    {
      "cell_type": "code",
      "metadata": {
        "colab": {
          "base_uri": "https://localhost:8080/"
        },
        "id": "43LC_cihPl_3",
        "outputId": "01779f43-aed3-493e-f6c9-3af4ef857ca9"
      },
      "source": [
        "model.compile(optimizer='adam', loss='categorical_crossentropy', metrics=['accuracy'])\n",
        "\n",
        "model.fit(x_train,y_cat_train, epochs=10, verbose=1, validation_data=(x_test, y_cat_test))"
      ],
      "execution_count": 30,
      "outputs": [
        {
          "output_type": "stream",
          "text": [
            "Epoch 1/10\n",
            "1875/1875 [==============================] - 6s 3ms/step - loss: 0.3288 - accuracy: 0.8973 - val_loss: 0.0412 - val_accuracy: 0.9868\n",
            "Epoch 2/10\n",
            "1875/1875 [==============================] - 5s 3ms/step - loss: 0.0522 - accuracy: 0.9842 - val_loss: 0.0350 - val_accuracy: 0.9889\n",
            "Epoch 3/10\n",
            "1875/1875 [==============================] - 5s 3ms/step - loss: 0.0390 - accuracy: 0.9872 - val_loss: 0.0311 - val_accuracy: 0.9893\n",
            "Epoch 4/10\n",
            "1875/1875 [==============================] - 5s 3ms/step - loss: 0.0276 - accuracy: 0.9912 - val_loss: 0.0259 - val_accuracy: 0.9922\n",
            "Epoch 5/10\n",
            "1875/1875 [==============================] - 5s 3ms/step - loss: 0.0232 - accuracy: 0.9929 - val_loss: 0.0242 - val_accuracy: 0.9923\n",
            "Epoch 6/10\n",
            "1875/1875 [==============================] - 5s 3ms/step - loss: 0.0192 - accuracy: 0.9933 - val_loss: 0.0252 - val_accuracy: 0.9922\n",
            "Epoch 7/10\n",
            "1875/1875 [==============================] - 5s 3ms/step - loss: 0.0169 - accuracy: 0.9946 - val_loss: 0.0253 - val_accuracy: 0.9933\n",
            "Epoch 8/10\n",
            "1875/1875 [==============================] - 5s 3ms/step - loss: 0.0141 - accuracy: 0.9956 - val_loss: 0.0239 - val_accuracy: 0.9931\n",
            "Epoch 9/10\n",
            "1875/1875 [==============================] - 5s 3ms/step - loss: 0.0139 - accuracy: 0.9951 - val_loss: 0.0224 - val_accuracy: 0.9943\n",
            "Epoch 10/10\n",
            "1875/1875 [==============================] - 5s 3ms/step - loss: 0.0121 - accuracy: 0.9959 - val_loss: 0.0229 - val_accuracy: 0.9935\n"
          ],
          "name": "stdout"
        },
        {
          "output_type": "execute_result",
          "data": {
            "text/plain": [
              "<tensorflow.python.keras.callbacks.History at 0x7fa7383c1518>"
            ]
          },
          "metadata": {
            "tags": []
          },
          "execution_count": 30
        }
      ]
    },
    {
      "cell_type": "code",
      "metadata": {
        "colab": {
          "base_uri": "https://localhost:8080/",
          "height": 204
        },
        "id": "RVxffq0ERdQG",
        "outputId": "34bbf3a8-6fd5-467a-8e6d-96705957ba1e"
      },
      "source": [
        "df = pd.DataFrame(model.history.history)\n",
        "df.tail()"
      ],
      "execution_count": 31,
      "outputs": [
        {
          "output_type": "execute_result",
          "data": {
            "text/html": [
              "<div>\n",
              "<style scoped>\n",
              "    .dataframe tbody tr th:only-of-type {\n",
              "        vertical-align: middle;\n",
              "    }\n",
              "\n",
              "    .dataframe tbody tr th {\n",
              "        vertical-align: top;\n",
              "    }\n",
              "\n",
              "    .dataframe thead th {\n",
              "        text-align: right;\n",
              "    }\n",
              "</style>\n",
              "<table border=\"1\" class=\"dataframe\">\n",
              "  <thead>\n",
              "    <tr style=\"text-align: right;\">\n",
              "      <th></th>\n",
              "      <th>loss</th>\n",
              "      <th>accuracy</th>\n",
              "      <th>val_loss</th>\n",
              "      <th>val_accuracy</th>\n",
              "    </tr>\n",
              "  </thead>\n",
              "  <tbody>\n",
              "    <tr>\n",
              "      <th>5</th>\n",
              "      <td>0.020994</td>\n",
              "      <td>0.992917</td>\n",
              "      <td>0.025210</td>\n",
              "      <td>0.9922</td>\n",
              "    </tr>\n",
              "    <tr>\n",
              "      <th>6</th>\n",
              "      <td>0.018160</td>\n",
              "      <td>0.994217</td>\n",
              "      <td>0.025261</td>\n",
              "      <td>0.9933</td>\n",
              "    </tr>\n",
              "    <tr>\n",
              "      <th>7</th>\n",
              "      <td>0.015184</td>\n",
              "      <td>0.995117</td>\n",
              "      <td>0.023890</td>\n",
              "      <td>0.9931</td>\n",
              "    </tr>\n",
              "    <tr>\n",
              "      <th>8</th>\n",
              "      <td>0.015027</td>\n",
              "      <td>0.995050</td>\n",
              "      <td>0.022377</td>\n",
              "      <td>0.9943</td>\n",
              "    </tr>\n",
              "    <tr>\n",
              "      <th>9</th>\n",
              "      <td>0.013332</td>\n",
              "      <td>0.995767</td>\n",
              "      <td>0.022872</td>\n",
              "      <td>0.9935</td>\n",
              "    </tr>\n",
              "  </tbody>\n",
              "</table>\n",
              "</div>"
            ],
            "text/plain": [
              "       loss  accuracy  val_loss  val_accuracy\n",
              "5  0.020994  0.992917  0.025210        0.9922\n",
              "6  0.018160  0.994217  0.025261        0.9933\n",
              "7  0.015184  0.995117  0.023890        0.9931\n",
              "8  0.015027  0.995050  0.022377        0.9943\n",
              "9  0.013332  0.995767  0.022872        0.9935"
            ]
          },
          "metadata": {
            "tags": []
          },
          "execution_count": 31
        }
      ]
    },
    {
      "cell_type": "code",
      "metadata": {
        "colab": {
          "base_uri": "https://localhost:8080/",
          "height": 282
        },
        "id": "7f-BBEZdUd_W",
        "outputId": "09971580-a3e5-414c-d0c9-684cb61b5ff5"
      },
      "source": [
        "df[['loss', 'val_loss']].plot()"
      ],
      "execution_count": 32,
      "outputs": [
        {
          "output_type": "execute_result",
          "data": {
            "text/plain": [
              "<matplotlib.axes._subplots.AxesSubplot at 0x7fa738353048>"
            ]
          },
          "metadata": {
            "tags": []
          },
          "execution_count": 32
        },
        {
          "output_type": "display_data",
          "data": {
            "image/png": "[encoded data removed]",
            "text/plain": [
              "<Figure size 432x288 with 1 Axes>"
            ]
          },
          "metadata": {
            "tags": [],
            "needs_background": "light"
          }
        }
      ]
    },
    {
      "cell_type": "code",
      "metadata": {
        "colab": {
          "base_uri": "https://localhost:8080/",
          "height": 282
        },
        "id": "tUeI5Glpf7rg",
        "outputId": "cb7791f9-39a5-4613-c92a-daf3fe4b40f5"
      },
      "source": [
        "df[['accuracy', 'val_accuracy']].plot()"
      ],
      "execution_count": 33,
      "outputs": [
        {
          "output_type": "execute_result",
          "data": {
            "text/plain": [
              "<matplotlib.axes._subplots.AxesSubplot at 0x7fa738fc3eb8>"
            ]
          },
          "metadata": {
            "tags": []
          },
          "execution_count": 33
        },
        {
          "output_type": "display_data",
          "data": {
            "image/png": "[encoded data removed]",
            "text/plain": [
              "<Figure size 432x288 with 1 Axes>"
            ]
          },
          "metadata": {
            "tags": [],
            "needs_background": "light"
          }
        }
      ]
    },
    {
      "cell_type": "code",
      "metadata": {
        "colab": {
          "base_uri": "https://localhost:8080/"
        },
        "id": "2Cl8MUaP-OgM",
        "outputId": "c4b47d31-348a-4725-cd11-61a4883d9a5b"
      },
      "source": [
        "model.metrics_names"
      ],
      "execution_count": 34,
      "outputs": [
        {
          "output_type": "execute_result",
          "data": {
            "text/plain": [
              "['loss', 'accuracy']"
            ]
          },
          "metadata": {
            "tags": []
          },
          "execution_count": 34
        }
      ]
    },
    {
      "cell_type": "code",
      "metadata": {
        "colab": {
          "base_uri": "https://localhost:8080/"
        },
        "id": "Wj5c6a9c-Sj2",
        "outputId": "6181d141-83ab-479c-e8d8-527549b93a76"
      },
      "source": [
        "model.evaluate(x_test, y_cat_test)"
      ],
      "execution_count": 35,
      "outputs": [
        {
          "output_type": "stream",
          "text": [
            "313/313 [==============================] - 1s 2ms/step - loss: 0.0229 - accuracy: 0.9935\n"
          ],
          "name": "stdout"
        },
        {
          "output_type": "execute_result",
          "data": {
            "text/plain": [
              "[0.02287181466817856, 0.9934999942779541]"
            ]
          },
          "metadata": {
            "tags": []
          },
          "execution_count": 35
        }
      ]
    },
    {
      "cell_type": "code",
      "metadata": {
        "colab": {
          "base_uri": "https://localhost:8080/"
        },
        "id": "OEoiJq9c-Xgp",
        "outputId": "dea95795-b926-435b-a266-a12eee48ca1a"
      },
      "source": [
        "model.summary()"
      ],
      "execution_count": 36,
      "outputs": [
        {
          "output_type": "stream",
          "text": [
            "Model: \"sequential_2\"\n",
            "_________________________________________________________________\n",
            "Layer (type)                 Output Shape              Param #   \n",
            "=================================================================\n",
            "conv2d_4 (Conv2D)            (None, 24, 24, 32)        832       \n",
            "_________________________________________________________________\n",
            "max_pooling2d_4 (MaxPooling2 (None, 12, 12, 32)        0         \n",
            "_________________________________________________________________\n",
            "conv2d_5 (Conv2D)            (None, 8, 8, 64)          51264     \n",
            "_________________________________________________________________\n",
            "max_pooling2d_5 (MaxPooling2 (None, 4, 4, 64)          0         \n",
            "_________________________________________________________________\n",
            "flatten_2 (Flatten)          (None, 1024)              0         \n",
            "_________________________________________________________________\n",
            "dropout (Dropout)            (None, 1024)              0         \n",
            "_________________________________________________________________\n",
            "dense_2 (Dense)              (None, 64)                65600     \n",
            "_________________________________________________________________\n",
            "dense_3 (Dense)              (None, 10)                650       \n",
            "=================================================================\n",
            "Total params: 118,346\n",
            "Trainable params: 118,346\n",
            "Non-trainable params: 0\n",
            "_________________________________________________________________\n"
          ],
          "name": "stdout"
        }
      ]
    },
    {
      "cell_type": "code",
      "metadata": {
        "colab": {
          "base_uri": "https://localhost:8080/"
        },
        "id": "0tDfHQy3Ascj",
        "outputId": "cf109e0a-d0b8-4de3-b1ba-03ab3c0b7353"
      },
      "source": [
        "print(\"numberOfParameters\",numberOfParameters,sep='\\n')"
      ],
      "execution_count": 37,
      "outputs": [
        {
          "output_type": "stream",
          "text": [
            "numberOfParameters\n",
            "[832, 0, 51264, 0, 0, 65600, 650]\n"
          ],
          "name": "stdout"
        }
      ]
    }
  ]
}